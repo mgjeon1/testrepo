{
 "cells": [
  {
   "cell_type": "markdown",
   "metadata": {},
   "source": [
    "<center>\n",
    "    <img src=\"https://s3-api.us-geo.objectstorage.softlayer.net/cf-courses-data/CognitiveClass/Logos/organization_logo/organization_logo.png\" width=\"300\" alt=\"cognitiveclass.ai logo\"  />\n",
    "</center>\n"
   ]
  },
  {
   "cell_type": "markdown",
   "metadata": {},
   "source": [
    "#### Add your code below following the instructions given in the course\n"
   ]
  },
  {
   "cell_type": "markdown",
   "metadata": {},
   "source": [
    "# My Jupyter Notebook on IBM Watson Studio."
   ]
  },
  {
   "cell_type": "markdown",
   "metadata": {
    "tags": []
   },
   "source": [
    "**Min Geon Jeon**  \n",
    "Desired occupation: Data Scientist"
   ]
  },
  {
   "cell_type": "markdown",
   "metadata": {},
   "source": [
    "*I am interested in Data Scientist because i can utilize the data in every industry. It is interesting because I can manage raw data into useful information and create outcome.*"
   ]
  },
  {
   "cell_type": "markdown",
   "metadata": {},
   "source": [
    "### List number from 0 to 99. list all the even numbers and odd numbers."
   ]
  },
  {
   "cell_type": "code",
   "execution_count": 51,
   "metadata": {},
   "outputs": [
    {
     "name": "stdout",
     "output_type": "stream",
     "text": [
      "0 Zero\n",
      "1 Odd number\n",
      "2 Even number\n",
      "3 Odd number\n",
      "4 Even number\n",
      "5 Odd number\n",
      "6 Even number\n",
      "7 Odd number\n",
      "8 Even number\n",
      "9 Odd number\n",
      "10 Even number\n",
      "11 Odd number\n",
      "12 Even number\n",
      "13 Odd number\n",
      "14 Even number\n",
      "15 Odd number\n",
      "16 Even number\n",
      "17 Odd number\n",
      "18 Even number\n",
      "19 Odd number\n",
      "20 Even number\n",
      "21 Odd number\n",
      "22 Even number\n",
      "23 Odd number\n",
      "24 Even number\n",
      "25 Odd number\n",
      "26 Even number\n",
      "27 Odd number\n",
      "28 Even number\n",
      "29 Odd number\n",
      "30 Even number\n",
      "31 Odd number\n",
      "32 Even number\n",
      "33 Odd number\n",
      "34 Even number\n",
      "35 Odd number\n",
      "36 Even number\n",
      "37 Odd number\n",
      "38 Even number\n",
      "39 Odd number\n",
      "40 Even number\n",
      "41 Odd number\n",
      "42 Even number\n",
      "43 Odd number\n",
      "44 Even number\n",
      "45 Odd number\n",
      "46 Even number\n",
      "47 Odd number\n",
      "48 Even number\n",
      "49 Odd number\n",
      "50 Even number\n",
      "51 Odd number\n",
      "52 Even number\n",
      "53 Odd number\n",
      "54 Even number\n",
      "55 Odd number\n",
      "56 Even number\n",
      "57 Odd number\n",
      "58 Even number\n",
      "59 Odd number\n",
      "60 Even number\n",
      "61 Odd number\n",
      "62 Even number\n",
      "63 Odd number\n",
      "64 Even number\n",
      "65 Odd number\n",
      "66 Even number\n",
      "67 Odd number\n",
      "68 Even number\n",
      "69 Odd number\n",
      "70 Even number\n",
      "71 Odd number\n",
      "72 Even number\n",
      "73 Odd number\n",
      "74 Even number\n",
      "75 Odd number\n",
      "76 Even number\n",
      "77 Odd number\n",
      "78 Even number\n",
      "79 Odd number\n",
      "80 Even number\n",
      "81 Odd number\n",
      "82 Even number\n",
      "83 Odd number\n",
      "84 Even number\n",
      "85 Odd number\n",
      "86 Even number\n",
      "87 Odd number\n",
      "88 Even number\n",
      "89 Odd number\n",
      "90 Even number\n",
      "91 Odd number\n",
      "92 Even number\n",
      "93 Odd number\n",
      "94 Even number\n",
      "95 Odd number\n",
      "96 Even number\n",
      "97 Odd number\n",
      "98 Even number\n",
      "99 Odd number\n"
     ]
    }
   ],
   "source": [
    "n = int\n",
    "for n in range(100):\n",
    "    n>0\n",
    "    if n == 0:\n",
    "        print(n, \"Zero\")\n",
    "    elif n%2 == 0:\n",
    "        print(n, \"Even number\")\n",
    "    else:\n",
    "        print(n, \"Odd number\")"
   ]
  },
  {
   "cell_type": "markdown",
   "metadata": {},
   "source": [
    "***\n",
    "\n",
    "<a href=\"https://github.com/adam-p/markdown-here/wiki/Markdown-Cheatsheet#hr\">Markdown Information</a>\n",
    "___\n",
    "\n",
    "|Name|Sex|Age|\n",
    "|----|---|---|\n",
    "|James|M|26|\n",
    "|Kat|F|21|\n",
    "|Josh|M|22|\n",
    "|Jacob|M|32|\n",
    "\n"
   ]
  }
 ],
 "metadata": {
  "kernelspec": {
   "display_name": "Python",
   "language": "python",
   "name": "conda-env-python-py"
  },
  "language_info": {
   "codemirror_mode": {
    "name": "ipython",
    "version": 3
   },
   "file_extension": ".py",
   "mimetype": "text/x-python",
   "name": "python",
   "nbconvert_exporter": "python",
   "pygments_lexer": "ipython3",
   "version": "3.7.12"
  }
 },
 "nbformat": 4,
 "nbformat_minor": 4
}
